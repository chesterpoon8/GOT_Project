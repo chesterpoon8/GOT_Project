{
 "cells": [
  {
   "cell_type": "code",
   "execution_count": 1,
   "metadata": {},
   "outputs": [],
   "source": [
    "import pandas as pd \n",
    "import nltk\n",
    "from pathlib import Path\n",
    "import re\n",
    "import string\n",
    "import requests\n",
    "from nltk import sent_tokenize\n",
    "import spacy\n",
    "from sklearn.feature_extraction.text import CountVectorizer\n",
    "import seaborn as sns\n",
    "import matplotlib.pyplot as plt\n",
    "\n",
    "sns.set_style(\"darkgrid\")"
   ]
  },
  {
   "cell_type": "markdown",
   "metadata": {},
   "source": [
    "## Introduction\n",
    "\n",
    " \n",
    " For this project we are going to use NLP and network grpahs to analyze the Game Of Thrones books.  All book files have been uploaded to github here: https://github.com/justinherman42/Data620/tree/master/GOT_Final_project/textfiles\n",
    " \n",
    " The text files were edited by hand. The books are ordered in chronological order.  We verified the first and last sentences via https://bookatlas.wordpress.com/books-a-z/ .  The website displays the first and last sentence of all of the books.  "
   ]
  },
  {
   "cell_type": "code",
   "execution_count": 2,
   "metadata": {},
   "outputs": [],
   "source": [
    "def clean_text(text_file):    \n",
    "    '''\n",
    "    Reads in text file from GITHUB gets rid of newline and special characters\n",
    "    '''\n",
    "    \n",
    "    url = 'https://raw.githubusercontent.com/justinherman42/Data620/master/GOT_Final_project/textfiles/'+text_file\n",
    "    page = requests.get(url)\n",
    "    text=page.text\n",
    "    data = text.replace('\\r', ' ').replace('\\n', ' ').replace(\"\\'\", \"'\")   \n",
    "    novel=''\n",
    "    novel += ' ' + data\n",
    "    novel = novel.replace('. . .',';')\n",
    "    return novel\n",
    "\n"
   ]
  },
  {
   "cell_type": "markdown",
   "metadata": {},
   "source": [
    "## Store text in dictionary\n",
    "+ Built out dictionary with untokenized data for the Count Vectorizer\n",
    "+ All I really saw in terms of issues was '...' being frequently used in the books.  Obviously this messed with the tokenizer, so i replaced it with  ; in the clean text function above.  "
   ]
  },
  {
   "cell_type": "code",
   "execution_count": 3,
   "metadata": {},
   "outputs": [],
   "source": [
    "\n",
    "## build out names for text file URL's\n",
    "git_text_file_names=['got1.txt','got2.txt','got3.txt','got4.txt','got5.txt']\n",
    "\n",
    "## Built out dictionary with untokenized data to use with the count vectorizer\n",
    "## All I really saw in terms of issues was ... being frequently used which I substituted with ;\n",
    "\n",
    "book_series_untokenized={}\n",
    "for i,x in enumerate(git_text_file_names):\n",
    "    book_series_untokenized[\"book{}\".format(i+1)]=clean_text(x)\n",
    "\n",
    "## built out dictionary with tokenized data\n",
    "book_series={}\n",
    "for i,x in enumerate(git_text_file_names):\n",
    "    orig_text=clean_text(x)\n",
    "    sentence_list = sent_tokenize(orig_text)\n",
    "    book_series[\"book{}\".format(i+1)]= sentence_list\n",
    "\n"
   ]
  },
  {
   "cell_type": "code",
   "execution_count": 4,
   "metadata": {},
   "outputs": [
    {
     "data": {
      "text/plain": [
       "list"
      ]
     },
     "execution_count": 4,
     "metadata": {},
     "output_type": "execute_result"
    }
   ],
   "source": [
    "type(book_series[\"book1\"])"
   ]
  },
  {
   "cell_type": "markdown",
   "metadata": {},
   "source": [
    "## Name Entity Recognition\n",
    "\n",
    "We'll use the SpaCY library for name recognition."
   ]
  },
  {
   "cell_type": "code",
   "execution_count": 5,
   "metadata": {},
   "outputs": [],
   "source": [
    "#Instantiate NLP for English\n",
    "nlp = spacy.load('en')"
   ]
  },
  {
   "cell_type": "code",
   "execution_count": 6,
   "metadata": {},
   "outputs": [],
   "source": [
    "\n",
    "def name_entity_recognition(sentence):\n",
    "    '''\n",
    "    A function to retrieve name entities in a sentence.\n",
    "    :param sentence: the sentence to retrieve names from.\n",
    "    :return: a name entity list of the sentence.\n",
    "    '''\n",
    "\n",
    "    doc = nlp(sentence)\n",
    "    # retrieve person and organization's name from the sentence\n",
    "    name_entity = [x for x in doc.ents if x.label_ in ['PERSON']]\n",
    "    # convert all names to lowercase and remove 's and ’s in names\n",
    "    name_entity = [str(x).lower().replace(\"'s\",\"\") for x in name_entity]\n",
    "    name_entity = [x.replace(\"’s\",\"\") for x in name_entity]\n",
    "    # remove name words that are less than 3 letters to raise recognition accuracy\n",
    "    name_entity = [x for x in name_entity if len(x) >= 3]\n",
    "\n",
    "    return name_entity\n",
    "\n"
   ]
  },
  {
   "cell_type": "code",
   "execution_count": 7,
   "metadata": {},
   "outputs": [],
   "source": [
    "def flatten(l):\n",
    "    \"\"\"A function that flattens a complex list\"\"\"\n",
    "    flat_list = []\n",
    "    for i in l:\n",
    "        for j in i:\n",
    "            flat_list.append(j)\n",
    "    return flat_list"
   ]
  },
  {
   "cell_type": "code",
   "execution_count": 8,
   "metadata": {},
   "outputs": [],
   "source": [
    "def nlist(book):\n",
    "    \"\"\"Returns a unique list of names from a sentence tokenized book\"\"\"\n",
    "    names = []\n",
    "    for i in book:\n",
    "        if name_entity_recognition(i) != []:\n",
    "            names.append(name_entity_recognition(i))\n",
    "    names = list(set(flatten(names)))\n",
    "    return names"
   ]
  },
  {
   "cell_type": "code",
   "execution_count": 10,
   "metadata": {},
   "outputs": [],
   "source": [
    "names_book1 = nlist(book_series[\"book1\"])\n",
    "names_book2 = nlist(book_series[\"book2\"])\n",
    "names_book3 = nlist(book_series[\"book3\"])\n",
    "names_book4 = nlist(book_series[\"book4\"])\n",
    "names_book5 = nlist(book_series[\"book5\"])"
   ]
  },
  {
   "cell_type": "code",
   "execution_count": 11,
   "metadata": {},
   "outputs": [
    {
     "name": "stdout",
     "output_type": "stream",
     "text": [
      "False\n",
      "False\n",
      "True\n",
      "False\n",
      "True\n"
     ]
    }
   ],
   "source": [
    "all_names_list = [names_book1,names_book2,names_book3,names_book4,names_book5]\n",
    "\n",
    "# As shown below, for some unknown reason SpaCy NER was unable to detect Tyrion as a name entity\n",
    "# in a few of the books\n",
    "for i in all_names_list:\n",
    "    print('tyrion' in i)\n",
    "\n",
    "# We will manually enter Tyrion in for books 1, 2, and 4\n",
    "names_book1.append('tyrion')\n",
    "names_book2.append('tyrion')\n",
    "names_book4.append('tyrion')"
   ]
  },
  {
   "cell_type": "markdown",
   "metadata": {},
   "source": [
    "### Notes on Names in GOT\n",
    "Created a list called `words` to remove words that the NER algorithm is mistakenly catching as name entities. Game of Thrones names are tricky and there are a few times where major characters in the books names can change and how they're referenced. We can keep the names separate and see how sentiment changes and even reveal how different the relationships can be when the characters are referenced under their alias.\n",
    "\n",
    "- Arya\n",
    " - Sometime in Book 4, Arya begins her training at the House of Black and White. She is called \"Girl\" from here moving forward.\n",
    "- Jon Snow\n",
    " - Good to know that usually when Jon Snow is called Jon in the book, it's in a positive light. When he's called \"Snow\", it's often in a negative one. Would be interesting to see the sentiment analysis confirm this.\n",
    "- Dany\n",
    " - Also known as Daenarys\n",
    "- Ned Stark\n",
    " - Also known as Eddard\n",
    "- Pie\n",
    " - Hot Pie. \n"
   ]
  },
  {
   "cell_type": "code",
   "execution_count": 12,
   "metadata": {},
   "outputs": [],
   "source": [
    "\"\"\" We'll load certain words that SpaCy NER pulled as names that are not names to extricate them \n",
    "from the list. Game of Thrones names are tricky and it's helpful that some members of our group have \n",
    "read the books to be able to recognize some things as not names. For example, Pie is a character, but \n",
    "could easily be mistaken as the food.\n",
    "\"\"\"\n",
    "words = ['hand','father','maester','gods','winterfell','wine','uncle','sleep','broken',\n",
    "        'wall','battle','watch','sweet','killed','north','child','kill','harrenhal','rock',\n",
    "         'dothraki','dead','ser','blood','knew','sword','queen','wolf','words','horse','hands',\n",
    "         'fingers','left','wildlings','daughter','word','fat','bastard','westeros','light',\n",
    "         'yunkai','aye','meereen','knight','woman','gate',\n",
    "         'lady', #removing lady. Although Lady is Sansa's wolf, Lady dies early and the NER algorithm\n",
    "                 # continues to pick up lady due to it's use as in \"Lady Stark\", etc.\n",
    "         'grace'] #removing grace since this person changes based on who sits on the iron throne\n",
    "                \n"
   ]
  },
  {
   "cell_type": "markdown",
   "metadata": {},
   "source": [
    "We'll only pull the top 25 characters by frequency to review in our analysis"
   ]
  },
  {
   "cell_type": "code",
   "execution_count": 13,
   "metadata": {},
   "outputs": [],
   "source": [
    "def top_names(name_list, novel, top_num=25):\n",
    "    '''\n",
    "    Returns name freq of a book for each name\n",
    "    '''\n",
    "\n",
    "    vect = CountVectorizer(vocabulary=name_list, stop_words='english')\n",
    "    name_frequency = vect.fit_transform([novel.lower()])\n",
    "    name_frequency = pd.DataFrame(name_frequency.toarray(), columns=vect.get_feature_names())\n",
    "    name_frequency = name_frequency.T\n",
    "    name_frequency = name_frequency.sort_values(by=0, ascending=False)\n",
    "    name_frequency = name_frequency[0:top_num]\n",
    "    names = list(name_frequency.index)\n",
    "    name_frequency = list(name_frequency[0])\n",
    "\n",
    "    return name_frequency, names"
   ]
  },
  {
   "cell_type": "code",
   "execution_count": 34,
   "metadata": {},
   "outputs": [],
   "source": [
    "names1 = [x for x in names_book1 if x not in words]\n",
    "names2 = [x for x in names_book2 if x not in words]\n",
    "names3 = [x for x in names_book3 if x not in words]\n",
    "names4 = [x for x in names_book4 if x not in words]\n",
    "names5 = [x for x in names_book5 if x not in words]\n",
    "\n",
    "def out_freq_df(name_freq):\n",
    "    \"\"\"Takes the items returned from top_names and returns a dataframe that will be fed into viz\"\"\"\n",
    "    df = pd.DataFrame([name_freq[1],name_freq[0]]).transpose()\n",
    "    df.columns = ['names','freq']\n",
    "    return df\n",
    "\n",
    "topnames1_df = out_freq_df(top_names(names1,book_series_untokenized['book1']))\n",
    "topnames2_df = out_freq_df(top_names(names2,book_series_untokenized['book2']))\n",
    "topnames3_df = out_freq_df(top_names(names3,book_series_untokenized['book3']))\n",
    "topnames4_df = out_freq_df(top_names(names4,book_series_untokenized['book4']))\n",
    "topnames5_df = out_freq_df(top_names(names5,book_series_untokenized['book5']))"
   ]
  },
  {
   "cell_type": "code",
   "execution_count": 49,
   "metadata": {},
   "outputs": [],
   "source": [
    "def name_freq_plot(df,title):\n",
    "    \"\"\"plot for name freq\"\"\"\n",
    "    sns.barplot(data=df, \n",
    "                y=df.names, \n",
    "                x=df.freq,\n",
    "                color='blue')\n",
    "    plt.title(title)\n",
    "    plt.show()"
   ]
  },
  {
   "cell_type": "code",
   "execution_count": 51,
   "metadata": {},
   "outputs": [
    {
     "data": {
      "image/png": "[encoded data removed]",
      "text/plain": [
       "<Figure size 432x288 with 1 Axes>"
      ]
     },
     "metadata": {
      "needs_background": "light"
     },
     "output_type": "display_data"
    },
    {
     "data": {
      "image/png": "[encoded data removed]",
      "text/plain": [
       "<Figure size 432x288 with 1 Axes>"
      ]
     },
     "metadata": {
      "needs_background": "light"
     },
     "output_type": "display_data"
    },
    {
     "data": {
      "image/png": "[encoded data removed]",
      "text/plain": [
       "<Figure size 432x288 with 1 Axes>"
      ]
     },
     "metadata": {
      "needs_background": "light"
     },
     "output_type": "display_data"
    },
    {
     "data": {
      "image/png": "[encoded data removed]",
      "text/plain": [
       "<Figure size 432x288 with 1 Axes>"
      ]
     },
     "metadata": {
      "needs_background": "light"
     },
     "output_type": "display_data"
    },
    {
     "data": {
      "image/png": "[encoded data removed]",
      "text/plain": [
       "<Figure size 432x288 with 1 Axes>"
      ]
     },
     "metadata": {
      "needs_background": "light"
     },
     "output_type": "display_data"
    }
   ],
   "source": [
    "name_freq_plot(topnames1_df,'A Game of Thrones')\n",
    "name_freq_plot(topnames2_df,'A Clash of Kings')\n",
    "name_freq_plot(topnames3_df,'A Storm of Swords')\n",
    "name_freq_plot(topnames4_df,'A Feast for Crows')\n",
    "name_freq_plot(topnames5_df,'A Dance with Dragons')"
   ]
  },
  {
   "cell_type": "code",
   "execution_count": null,
   "metadata": {},
   "outputs": [],
   "source": []
  },
  {
   "cell_type": "code",
   "execution_count": null,
   "metadata": {},
   "outputs": [],
   "source": []
  }
 ],
 "metadata": {
  "kernelspec": {
   "display_name": "Python 3",
   "language": "python",
   "name": "python3"
  },
  "language_info": {
   "codemirror_mode": {
    "name": "ipython",
    "version": 3
   },
   "file_extension": ".py",
   "mimetype": "text/x-python",
   "name": "python",
   "nbconvert_exporter": "python",
   "pygments_lexer": "ipython3",
   "version": "3.7.2"
  },
  "latex_envs": {
   "LaTeX_envs_menu_present": true,
   "autoclose": false,
   "autocomplete": true,
   "bibliofile": "biblio.bib",
   "cite_by": "apalike",
   "current_citInitial": 1,
   "eqLabelWithNumbers": true,
   "eqNumInitial": 1,
   "hotkeys": {
    "equation": "Ctrl-E",
    "itemize": "Ctrl-I"
   },
   "labels_anchors": false,
   "latex_user_defs": false,
   "report_style_numbering": false,
   "user_envs_cfg": false
  },
  "toc": {
   "base_numbering": 1,
   "nav_menu": {},
   "number_sections": true,
   "sideBar": true,
   "skip_h1_title": false,
   "title_cell": "Table of Contents",
   "title_sidebar": "Contents",
   "toc_cell": false,
   "toc_position": {},
   "toc_section_display": true,
   "toc_window_display": false
  },
  "varInspector": {
   "cols": {
    "lenName": 16,
    "lenType": 16,
    "lenVar": 40
   },
   "kernels_config": {
    "python": {
     "delete_cmd_postfix": "",
     "delete_cmd_prefix": "del ",
     "library": "var_list.py",
     "varRefreshCmd": "print(var_dic_list())"
    },
    "r": {
     "delete_cmd_postfix": ") ",
     "delete_cmd_prefix": "rm(",
     "library": "var_list.r",
     "varRefreshCmd": "cat(var_dic_list()) "
    }
   },
   "position": {
    "height": "672.646px",
    "left": "2402px",
    "right": "20px",
    "top": "120px",
    "width": "350px"
   },
   "types_to_exclude": [
    "module",
    "function",
    "builtin_function_or_method",
    "instance",
    "_Feature"
   ],
   "window_display": true
  }
 },
 "nbformat": 4,
 "nbformat_minor": 2
}
